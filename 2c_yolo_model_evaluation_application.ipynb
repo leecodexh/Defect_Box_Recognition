{
 "cells": [
  {
   "cell_type": "markdown",
   "id": "b11126da",
   "metadata": {},
   "source": [
    "# Removing irrelevant images from webscraping with Yolov3"
   ]
  },
  {
   "cell_type": "code",
   "execution_count": 1,
   "id": "c3cf3280",
   "metadata": {},
   "outputs": [],
   "source": [
    "import cv2\n",
    "import numpy as np\n",
    "import glob\n",
    "import random\n",
    "import numpy as np\n",
    "import matplotlib.pyplot as plt\n",
    "import os"
   ]
  },
  {
   "cell_type": "markdown",
   "id": "031398c5",
   "metadata": {},
   "source": [
    "## Evaluating Yolov3 model through confusion matrix <br>\n",
    "Yolov3 model was trained for 1000 iterations on Google Colab's GPU, giving us the weights found in \"yolov3_training_final.weights\". We then test the trained model and plot a confusion matrix as shown below.<br><br>\n",
    "<b>Training dataset</b>: <i>yolo_labelled_images_final</i> => <u>100 labelled images (webscraped) containing carton boxes</u><br>\n",
    "<b>Testing dataset</b>: <i>yolo_test_images_final</i> => <u>50 webscraped images with half-half split between relevant (w carton box) and irrelevant images (w/o carton box)</u>; <br>~Note: testing dataset and training dataset do not overlap. i.e. test set images do not contain training set images for fair testing"
   ]
  },
  {
   "cell_type": "code",
   "execution_count": 4,
   "id": "07721157",
   "metadata": {},
   "outputs": [
    {
     "name": "stdout",
     "output_type": "stream",
     "text": [
      "predicted results:  [1, 1, 0, 0, 0, 0, 0, 0, 0, 1, 0, 0, 0, 2, 0, 0, 1, 1, 0, 1, 0, 0, 0, 0, 1, 1, 1, 1, 0, 1, 1, 1, 1, 2, 1, 1, 2, 1, 1, 0, 0, 1, 0, 1, 0, 1, 0, 0, 1, 1]\n"
     ]
    }
   ],
   "source": [
    "# testing the model by running it through a test dataset (\"yolo_test_images_final\") \n",
    "\n",
    "# Load Yolo\n",
    "net = cv2.dnn.readNet(\"yolov3_training_final.weights\", \"yolov3_testing.cfg\")\n",
    "\n",
    "# Name custom object\n",
    "classes = [\"carton_box\"]\n",
    "\n",
    "# Images path\n",
    "images_path = glob.glob(r\"C:\\Users\\LeeX\\Desktop\\Proof_Of_Concept\\yolo_test_images_final\\*.jpg\")\n",
    "\n",
    "layer_names = net.getLayerNames()\n",
    "output_layers = [layer_names[i[0] - 1] for i in net.getUnconnectedOutLayers()]\n",
    "colors = np.random.uniform(0, 255, size=(len(classes), 3))\n",
    "\n",
    "#1 means got box, 0 means no box\n",
    "#based \n",
    "actual_y = [1,1,0,0,0,0,0,0,0,0,0,0,0,1,0,0,1,0,0,0,0,0,0,0,1,1,1,1,0,1,1,1,1,1,1,1,1,1,1,1,1,1,0,1,0,0,0,1,1,1]\n",
    "predicted_y = []\n",
    "\n",
    "# Insert here the path of your images\n",
    "# random.shuffle(images_path)\n",
    "\n",
    "# loop through all the images\n",
    "for img_path in images_path:\n",
    "    # Loading image\n",
    "    img = cv2.imread(img_path)\n",
    "    img = cv2.resize(img, None, fx=0.8, fy=0.8)\n",
    "    height, width, channels = img.shape\n",
    "\n",
    "    # creating a 4D blob + preprocessing (normalising images by rescaling 1/255 so pixel values range [0,1], swap colour channels, resize)\n",
    "    blob = cv2.dnn.blobFromImage(img, 0.00392, (416, 416), (0, 0, 0), True, crop=False)\n",
    "\n",
    "    net.setInput(blob)  # sets the blob as the input of the network\n",
    "    outs = net.forward(output_layers) # feed forward (inference) and get the network output\n",
    "\n",
    "    # Showing information on the screen\n",
    "    class_ids = []\n",
    "    confidences = []\n",
    "    boxes = []\n",
    "    for out in outs: # loop over each of the layer outputs\n",
    "        for detection in out: # loop over each of the object detection \n",
    "            # extract the label/class id and confidence (as a probability) of the current object detection \n",
    "            scores = detection[5:]\n",
    "            class_id = np.argmax(scores)\n",
    "            confidence = scores[class_id]\n",
    "            if confidence > 0.3: # discard weak predictions by ensuring detected prob > min. prob which is set at 0.3 in this case\n",
    "                # note that YOLO returns the centre (x,y) coordinates of the bounding box followed by the box's width and height\n",
    "                # print('class_id:', class_id)\n",
    "                #scaling the bounding box coordinates back relative to the size of the image\n",
    "                center_x = int(detection[0] * width) \n",
    "                center_y = int(detection[1] * height)\n",
    "                w = int(detection[2] * width)\n",
    "                h = int(detection[3] * height)\n",
    "\n",
    "                # deriving bottom and left corner coordinates of bounding box\n",
    "                x = int(center_x - w / 2)\n",
    "                y = int(center_y - h / 2)\n",
    "\n",
    "                # update list of bounding box coordinates, confidences, and class ids\n",
    "                boxes.append([x, y, w, h])\n",
    "                confidences.append(float(confidence))\n",
    "                class_ids.append(class_id)\n",
    "\n",
    "    # perform non maximum suppression -> to select the most appropriate bounding box for the object\n",
    "    indexes = cv2.dnn.NMSBoxes(boxes, confidences, 0.5, 0.4)\n",
    "    \n",
    "    predicted_y.append(len(indexes)) # len(indexes) = 0 means no valid detection, len(indexes)>=1 means got valid detection\n",
    "    \n",
    "    font = cv2.FONT_HERSHEY_PLAIN\n",
    "    for i in range(len(boxes)): # drawing rectangles on images with valid bounding box, i.e. confidence>0.3\n",
    "        if i in indexes:\n",
    "            x, y, w, h = boxes[i]\n",
    "            label = str(classes[class_ids[i]])\n",
    "            color = colors[class_ids[i]]\n",
    "            cv2.rectangle(img, (x, y), (x + w, y + h), color, 2) # draw a rectangle on the image\n",
    "            cv2.putText(img, label, (x, y + 30), font, 1, color, 2) # put label text on the image\n",
    "\n",
    "\n",
    "    cv2.imshow(\"Image\", img)\n",
    "    key = cv2.waitKey(1) # waitKey(1) will play the images continuously, while waitKey(0) will play still images that change upon pressing any key\n",
    "\n",
    "cv2.destroyAllWindows() # close the window once all images finish displaying\n",
    "print('predicted results: ',predicted_y)"
   ]
  },
  {
   "cell_type": "code",
   "execution_count": 47,
   "id": "d219fc50",
   "metadata": {},
   "outputs": [
    {
     "data": {
      "image/png": "[encoded data removed]",
      "text/plain": [
       "<Figure size 432x288 with 2 Axes>"
      ]
     },
     "metadata": {
      "needs_background": "light"
     },
     "output_type": "display_data"
    }
   ],
   "source": [
    "# plotting confusion matrix for results of testing yolov3_training_final.weights on yolo_test_images_final\n",
    "\n",
    "false_negative = 0 # create counters for each of the 4 scenarios: FP,FN,TP,TN\n",
    "false_positive = 0\n",
    "true_negative = 0\n",
    "true_positive = 0\n",
    "\n",
    "for i in range(len(actual_y)):\n",
    "    if actual_y[i]>=1 and predicted_y[i]>=1:# if actual y is 1 and predicted y is 1 => true positive\n",
    "        true_positive+=1\n",
    "    elif actual_y[i]>=1 and predicted_y[i]==0: # if actual y is 1 and predicted y is 0 => false negative\n",
    "        false_negative+=1\n",
    "    elif actual_y[i]==0 and predicted_y[i]==0: # if actual y is 0 and predicted y is 0 => true negative\n",
    "        true_negative+=1\n",
    "    elif actual_y[i]==0 and predicted_y[i]>=1: # if actual y is 0 and predicted y is 1 => false positive\n",
    "        false_positive+=1\n",
    "\n",
    "conf_arr = [[false_negative,true_positive], # this is the structure of the confusion matrix: FN at top left, FP at bottom right\n",
    "            [true_negative,false_positive] \n",
    "            ]\n",
    "\n",
    "norm_conf = []\n",
    "for i in conf_arr:\n",
    "    a = 0\n",
    "    tmp_arr = []\n",
    "    a = sum(i, 0)     # sum up the counts in each row, eg. FN + TP => this represents the total actual positive images\n",
    "    for j in i:\n",
    "        tmp_arr.append(float(j)/float(a)) # calculate the ratio \n",
    "    norm_conf.append(tmp_arr)\n",
    "\n",
    "fig = plt.figure()\n",
    "plt.clf() # clear previous figure (if any) to make way for new figure\n",
    "fig.suptitle('Confusion Matrix Final', fontsize=20)\n",
    "ax = fig.add_subplot(111)\n",
    "ax.set_aspect(1)\n",
    "res = ax.imshow(np.array(norm_conf), cmap=plt.cm.jet, \n",
    "                interpolation='nearest')\n",
    "\n",
    "width, height = np.array(conf_arr).shape\n",
    "\n",
    "for x in range(width):\n",
    "    for y in range(height):\n",
    "        ax.annotate(str(conf_arr[x][y]), xy=(y, x), \n",
    "                    horizontalalignment='center',\n",
    "                    verticalalignment='center')\n",
    "\n",
    "cb = fig.colorbar(res)\n",
    "x_axis_label = ['Predicted 0 (no box)','Predicted 1 (got box)']\n",
    "y_axis_label = ['Actual 1 (got box)','Actual 0 (no box)']\n",
    "plt.xticks(range(width), x_axis_label[:width])\n",
    "plt.yticks(range(height), y_axis_label[:height])\n",
    "plt.savefig('confusion_matrix_final.png', format='png')"
   ]
  },
  {
   "cell_type": "markdown",
   "id": "f9aed257",
   "metadata": {},
   "source": [
    "##### Results of Testing\n",
    "From the first row of the confusion matrix shown above, it can be seen that out of 25 images with carton boxes in it, the model was able to detect/predict the carton box in 22 of those images. This gives us a <b>true positive rate</b> of <u>22/25 = 88%</u>. There were 3 images which contained carton boxes but the model wrongly predicted that there were no carton boxes in them. This gives us a <b>false negative rate</b> of <u>3/25 = 12%</u>. <br><br>\n",
    "From the second row, it can be seen that out of 25 images without carton boxes in it, the model correctly predicted/detected that there were no carton boxes for 21 of them. This gives us a <b>true negative rate</b> of <u>21/25 = 84%</u>. There were 4 images which did not contain carton boxes but the model wrongly predicted that there were carton boxes in them. This gives us a <b>false positive rate</b> of <u>4/25 = 16%</u>.<br><br>\n",
    "Hence, the <b>overall accuracy rate</b> is <u>(21+22)/50 = 86%</u>."
   ]
  },
  {
   "cell_type": "code",
   "execution_count": 69,
   "id": "17d9c333",
   "metadata": {},
   "outputs": [
    {
     "name": "stdout",
     "output_type": "stream",
     "text": [
      "Save location of confusion matrix image: \n",
      "C:\\Users\\LeeX\\Desktop\\Proof_Of_Concept\\2c_train_yolo_to_clean_scraped_images\\yolo_custom_detection\n"
     ]
    },
    {
     "data": {
      "text/plain": [
       "'C:\\\\Users\\\\LeeX\\\\Desktop\\\\Proof_Of_Concept\\\\'"
      ]
     },
     "execution_count": 69,
     "metadata": {},
     "output_type": "execute_result"
    }
   ],
   "source": [
    "print('Save location of confusion matrix image: ')\n",
    "cwd = os.getcwd()\n",
    "print(cwd)\n",
    "\n",
    "# setting up directory for removing irrelevant scraped images in the next step\n",
    "index_position = cwd.find('Proof_Of_Concept\\\\') + len('Proof_Of_Concept\\\\')\n",
    "cwd = cwd[:index_position] \n",
    "cwd"
   ]
  },
  {
   "cell_type": "markdown",
   "id": "d89e4650",
   "metadata": {},
   "source": [
    "## Applying Yolov3 model to clean webscraped images"
   ]
  },
  {
   "cell_type": "code",
   "execution_count": 70,
   "id": "cc4b2aaf",
   "metadata": {},
   "outputs": [
    {
     "name": "stdout",
     "output_type": "stream",
     "text": [
      "No. of irrelevant images removed:  633\n"
     ]
    }
   ],
   "source": [
    "# applying the model by running it through the folders containing webscraped images\n",
    "\n",
    "# Load Yolo\n",
    "net = cv2.dnn.readNet(\"yolov3_training_final.weights\", \"yolov3_testing.cfg\")\n",
    "\n",
    "# Name custom object\n",
    "classes = [\"carton_box\"]\n",
    "\n",
    "# Images path (will require some minor change in directory path)\n",
    "images_path_bad = glob.glob(r\"C:\\Users\\LeeX\\Desktop\\Proof_Of_Concept\\good_bad_carton_images\\webscraped_bad\\*.jpg\")\n",
    "images_path_good = glob.glob(r\"C:\\Users\\LeeX\\Desktop\\Proof_Of_Concept\\good_bad_carton_images\\webscraped_good\\*.jpg\")\n",
    "images_path_list = [images_path_bad, images_path_good]\n",
    "\n",
    "layer_names = net.getLayerNames()\n",
    "output_layers = [layer_names[i[0] - 1] for i in net.getUnconnectedOutLayers()]\n",
    "colors = np.random.uniform(0, 255, size=(len(classes), 3))\n",
    "\n",
    "count = 0 # number of irrelevant images counter\n",
    "\n",
    "# Insert here the path of your images\n",
    "# random.shuffle(images_path)\n",
    "\n",
    "# loop through all the images\n",
    "for images_path in images_path_list:\n",
    "    for img_path in images_path:\n",
    "    # Loading image\n",
    "        img = cv2.imread(img_path)\n",
    "        img = cv2.resize(img, None, fx=0.8, fy=0.8)\n",
    "        height, width, channels = img.shape\n",
    "\n",
    "    # creating a 4D blob + preprocessing (normalising images by rescaling 1/255 so pixel values range [0,1], swap colour channels, resize)\n",
    "        blob = cv2.dnn.blobFromImage(img, 0.00392, (416, 416), (0, 0, 0), True, crop=False)\n",
    "\n",
    "        net.setInput(blob)  # sets the blob as the input of the network\n",
    "        outs = net.forward(output_layers) # feed forward (inference) and get the network output\n",
    "\n",
    "    # Showing information on the screen\n",
    "        class_ids = []\n",
    "        confidences = []\n",
    "        boxes = []\n",
    "        for out in outs: # loop over each of the layer outputs\n",
    "            for detection in out: # loop over each of the object detection \n",
    "            # extract the label/class id and confidence (as a probability) of the current object detection \n",
    "                scores = detection[5:]\n",
    "                class_id = np.argmax(scores)\n",
    "                confidence = scores[class_id]\n",
    "                if confidence > 0.3: # discard weak predictions by ensuring detected prob > min. prob which is set at 0.3 in this case\n",
    "                # note that YOLO returns the centre (x,y) coordinates of the bounding box followed by the box's width and height\n",
    "                # print('class_id:', class_id)\n",
    "                #scaling the bounding box coordinates back relative to the size of the image\n",
    "                    center_x = int(detection[0] * width) \n",
    "                    center_y = int(detection[1] * height)\n",
    "                    w = int(detection[2] * width)\n",
    "                    h = int(detection[3] * height)\n",
    "\n",
    "                # deriving bottom and left corner coordinates of bounding box\n",
    "                    x = int(center_x - w / 2)\n",
    "                    y = int(center_y - h / 2)\n",
    "\n",
    "                # update list of bounding box coordinates, confidences, and class ids\n",
    "                    boxes.append([x, y, w, h])\n",
    "                    confidences.append(float(confidence))\n",
    "                    class_ids.append(class_id)\n",
    "\n",
    "        # perform non maximum suppression -> to select the most appropriate bounding box for the object\n",
    "        indexes = cv2.dnn.NMSBoxes(boxes, confidences, 0.5, 0.4)\n",
    "\n",
    "        if len(indexes)==0:\n",
    "            os.remove(img_path)\n",
    "            count += 1   \n",
    "\n",
    "print('No. of irrelevant images removed: ',count)"
   ]
  },
  {
   "cell_type": "code",
   "execution_count": null,
   "id": "150590d7",
   "metadata": {},
   "outputs": [],
   "source": []
  },
  {
   "cell_type": "code",
   "execution_count": null,
   "id": "a71c739b",
   "metadata": {},
   "outputs": [],
   "source": []
  }
 ],
 "metadata": {
  "kernelspec": {
   "display_name": "Python 3",
   "language": "python",
   "name": "python3"
  },
  "language_info": {
   "codemirror_mode": {
    "name": "ipython",
    "version": 3
   },
   "file_extension": ".py",
   "mimetype": "text/x-python",
   "name": "python",
   "nbconvert_exporter": "python",
   "pygments_lexer": "ipython3",
   "version": "3.8.8"
  }
 },
 "nbformat": 4,
 "nbformat_minor": 5
}
