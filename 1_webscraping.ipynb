{
 "cells": [
  {
   "cell_type": "code",
   "execution_count": 1,
   "id": "d4356c24",
   "metadata": {},
   "outputs": [],
   "source": [
    "# original folder contains: README, Codes, good_bad_carton_images folder with subfolders for INTERNAL images \n",
    "# step 1: webscrape using for loop\n",
    "# step 2: remove duplicates, remove corrupted, use YOLOv3 object detection transfer learning to remove irrelevant images\n",
    "# step 3: do a manual scan of scraped images to check that they fit the label, i.e. are they good or bad? even if we scrape for good boxes, sometimes may get bad boxes, hence we need to manually check\n",
    "# step 4: add internal images to scraped images"
   ]
  },
  {
   "cell_type": "code",
   "execution_count": 1,
   "id": "25430296",
   "metadata": {},
   "outputs": [],
   "source": [
    "# webscraping\n",
    "import os\n",
    "from bs4 import BeautifulSoup\n",
    "import requests\n",
    "import urllib.request\n",
    "\n",
    "# removing corrupted images\n",
    "from PIL import Image\n",
    "\n",
    "# removing duplicates\n",
    "import hashlib\n",
    "from hashlib import md5\n",
    "from matplotlib.image import imread\n",
    "import matplotlib.pyplot as plt\n",
    "import numpy as np\n",
    "\n",
    "# EDA\n",
    "import seaborn as sns"
   ]
  },
  {
   "cell_type": "markdown",
   "id": "7be1f85c",
   "metadata": {},
   "source": [
    "# Webscraping"
   ]
  },
  {
   "cell_type": "code",
   "execution_count": 1,
   "id": "bf0df326",
   "metadata": {},
   "outputs": [],
   "source": [
    "# setting up working directory to store images from webscraping\n",
    "\n",
    "cwd=os.getcwd()\n",
    "#print(cwd)\n",
    "if 'good_bad_carton_images' not in cwd:\n",
    "    os.chdir(cwd+'\\\\good_bad_carton_images')\n",
    "cwd=os.getcwd() #update cwd\n",
    "#print(cwd) #to double check working directory\n",
    "\n",
    "# creating folders to store scraped images\n",
    "subfolders = ['webscraped_bad','webscraped_good']\n",
    "for subfolder in subfolders:\n",
    "    if subfolder not in os.listdir(cwd):\n",
    "        os.mkdir(cwd+'\\\\'+folder)"
   ]
  },
  {
   "cell_type": "code",
   "execution_count": 16,
   "id": "a649aa01",
   "metadata": {},
   "outputs": [],
   "source": [
    "# setting up for webscraping using Beautiful Soup library\n",
    "\n",
    "headers = {\n",
    "    'User-Agent': \"Mozilla/5.0 (Windows NT 10.0; Win64; x64) AppleWebKit/537.36 (KHTML, like Gecko) Chrome/94.0.4606.81 Safari/537.36 Edg/94.0.992.50\"\n",
    "}"
   ]
  },
  {
   "cell_type": "code",
   "execution_count": 20,
   "id": "c49e8a43",
   "metadata": {},
   "outputs": [
    {
     "name": "stdout",
     "output_type": "stream",
     "text": [
      "URLs to scrape for good carton box images:\n",
      "https://www.istockphoto.com/search/2/image?page=1&phrase=cardboard%20box\n",
      "https://www.istockphoto.com/search/2/image?page=2&phrase=cardboard%20box\n",
      "https://www.istockphoto.com/search/2/image?page=3&phrase=cardboard%20box\n",
      "https://www.istockphoto.com/search/2/image?page=4&phrase=cardboard%20box\n",
      "https://www.istockphoto.com/search/2/image?page=5&phrase=cardboard%20box\n",
      "https://www.istockphoto.com/search/2/image?page=6&phrase=cardboard%20box\n",
      "https://www.istockphoto.com/search/2/image?page=7&phrase=cardboard%20box\n",
      "https://www.istockphoto.com/search/2/image?mediatype=photography&page=1&phrase=isolated%20shipping%20carton\n",
      "https://www.istockphoto.com/search/2/image?mediatype=photography&page=2&phrase=isolated%20shipping%20carton\n",
      "https://www.istockphoto.com/search/2/image?mediatype=photography&page=3&phrase=isolated%20shipping%20carton\n",
      "https://www.istockphoto.com/search/2/image?mediatype=photography&page=4&phrase=isolated%20shipping%20carton\n",
      "https://www.istockphoto.com/search/2/image?mediatype=photography&page=5&phrase=isolated%20shipping%20carton\n",
      "https://www.freepik.com/search?dates=any&demographic=any-people&format=search&page=1&query=cardboard%20box&selection=1&sort=popular&type=photo\n",
      "https://www.freepik.com/search?dates=any&demographic=any-people&format=search&page=2&query=cardboard%20box&selection=1&sort=popular&type=photo\n",
      "https://www.freepik.com/search?dates=any&demographic=any-people&format=search&page=3&query=cardboard%20box&selection=1&sort=popular&type=photo\n",
      "https://www.freepik.com/search?dates=any&demographic=any-people&format=search&page=4&query=cardboard%20box&selection=1&sort=popular&type=photo\n",
      "https://www.freepik.com/search?dates=any&demographic=any-people&format=search&page=1&query=shipping%20carton&selection=1&sort=popular&type=photo\n",
      "https://www.freepik.com/search?dates=any&demographic=any-people&format=search&page=2&query=shipping%20carton&selection=1&sort=popular&type=photo\n",
      "https://www.freepik.com/search?dates=any&demographic=any-people&format=search&page=3&query=shipping%20carton&selection=1&sort=popular&type=photo\n",
      "https://www.freepik.com/search?dates=any&demographic=any-people&format=search&page=4&query=shipping%20carton&selection=1&sort=popular&type=photo\n",
      "https://www.freepik.com/search?dates=any&demographic=any-people&format=search&page=5&query=shipping%20carton&selection=1&sort=popular&type=photo\n",
      "https://depositphotos.com/similar-images/10180258.html?offset=000\n",
      "https://depositphotos.com/similar-images/10180258.html?offset=100\n",
      "https://depositphotos.com/similar-images/10180258.html?offset=200\n",
      "https://depositphotos.com/similar-images/10180258.html?offset=300\n",
      "https://depositphotos.com/similar-images/10180258.html?offset=400\n",
      "https://depositphotos.com/similar-images/10180258.html?offset=500\n",
      "https://www.shutterstock.com/search/isolated+carton+box?image_type=photo&page=1\n",
      "https://www.shutterstock.com/search/isolated+carton+box?image_type=photo&page=2\n",
      "https://www.shutterstock.com/search/isolated+carton+box?image_type=photo&page=3\n",
      "\n",
      "URLs to scrape for bad carton box images:\n",
      "https://www.istockphoto.com/search/more-like-this/1201162965?assettype=image&mediatype=photography&phrase=damaged%20shipping%20box&page=1\n",
      "https://www.istockphoto.com/search/more-like-this/1201162965?assettype=image&mediatype=photography&phrase=damaged%20shipping%20box&page=2\n",
      "https://www.istockphoto.com/search/more-like-this/1201162965?assettype=image&mediatype=photography&phrase=damaged%20shipping%20box&page=3\n",
      "https://depositphotos.com/similar-images/8186707.html?\n",
      "https://www.dreamstime.com/photos-images/damaged-cardboard-box.html?pg=1\n",
      "https://www.dreamstime.com/photos-images/damaged-cardboard-box.html?pg=2\n",
      "https://www.dreamstime.com/photos-images/damaged-cardboard-box.html?pg=3\n",
      "https://www.dreamstime.com/photos-images/damaged-cardboard-box.html?pg=4\n",
      "https://www.dreamstime.com/photos-images/damaged-cardboard-box.html?pg=5\n",
      "https://www.shutterstock.com/search/damaged+cardboard+box?image_type=photo&page=1\n",
      "https://www.shutterstock.com/search/damaged+cardboard+box?image_type=photo&page=2\n",
      "https://www.shutterstock.com/search/damaged+cardboard+box?image_type=photo&page=3\n",
      "https://www.shutterstock.com/search/damaged+cardboard+box?image_type=photo&page=4\n",
      "https://www.shutterstock.com/search/damaged+cardboard+box?image_type=photo&page=5\n",
      "https://www.shutterstock.com/search/damaged+cardboard+box?image_type=photo&page=6\n",
      "https://www.shutterstock.com/search/damaged+cardboard+box?image_type=photo&page=7\n"
     ]
    }
   ],
   "source": [
    "# urls chosen based on first-cut examination of images' relevance\n",
    "\n",
    "urls_to_scrape = [] # create empty list to store all urls to be scraped for good product box images\n",
    "urls_to_scrape_2 = [] # create empty list to store all urls to be scraped for bad product box images\n",
    "\n",
    "# GOOD images\n",
    "# istockphoto\n",
    "x = 'https://www.istockphoto.com/search/2/image?page=3&phrase=cardboard%20box' # base url structure\n",
    "ind = x.find('page=') + len('page=') # find index position in url to change page number by performing for loop\n",
    "for i in range(1,8): # range of pages determined via manual examination for relevancy\n",
    "    y = x[:ind] + str(i) + x[(ind+1):]\n",
    "    urls_to_scrape.append(y)\n",
    "    \n",
    "x = 'https://www.istockphoto.com/search/2/image?mediatype=photography&page=1&phrase=isolated%20shipping%20carton'\n",
    "ind = x.find('page=') + len('page=')\n",
    "for i in range(1,6):\n",
    "    y = x[:ind] + str(i) + x[(ind+1):]\n",
    "    urls_to_scrape.append(y)\n",
    "    \n",
    "# freepik\n",
    "x = 'https://www.freepik.com/search?dates=any&demographic=any-people&format=search&page=1&query=cardboard%20box&selection=1&sort=popular&type=photo'\n",
    "ind = x.find('page=') + len('page=')\n",
    "for i in range(1,5):\n",
    "    y = x[:ind] + str(i) + x[(ind+1):]\n",
    "    urls_to_scrape.append(y)\n",
    "\n",
    "x = 'https://www.freepik.com/search?dates=any&demographic=any-people&format=search&page=1&query=shipping%20carton&selection=1&sort=popular&type=photo'\n",
    "ind = x.find('page=') + len('page=')\n",
    "for i in range(1,6):\n",
    "    y = x[:ind] + str(i) + x[(ind+1):]\n",
    "    urls_to_scrape.append(y)\n",
    "    \n",
    "# depositphotos\n",
    "x = 'https://depositphotos.com/similar-images/10180258.html?offset=100'\n",
    "ind = x.find('offset=') + len('offset=')\n",
    "for i in range(6):\n",
    "    y = x[:ind] + str(i) + x[(ind+1):]\n",
    "    urls_to_scrape.append(y)\n",
    "    \n",
    "# shutterstock\n",
    "x = 'https://www.shutterstock.com/search/isolated+carton+box?image_type=photo&page=2'\n",
    "ind = x.find('page=') + len('page=')\n",
    "for i in range(1,4):\n",
    "    y = x[:ind] + str(i) + x[(ind+1):]\n",
    "    urls_to_scrape.append(y)\n",
    "\n",
    "# BAD images\n",
    "# istockphoto\n",
    "x = 'https://www.istockphoto.com/search/more-like-this/1201162965?assettype=image&mediatype=photography&phrase=damaged%20shipping%20box&page=2' # base url structure\n",
    "ind = x.find('page=') + len('page=') # find index position in url to change page number by performing for loop\n",
    "for i in range(1,4): # range of pages determined via manual examination for relevancy\n",
    "    y = x[:ind] + str(i) + x[(ind+1):]\n",
    "    urls_to_scrape_2.append(y)\n",
    "\n",
    "# deposit photos\n",
    "x = 'https://depositphotos.com/similar-images/8186707.html?'\n",
    "urls_to_scrape_2.append(x) # other page not relevant\n",
    "\n",
    "# dreams time\n",
    "x = 'https://www.dreamstime.com/photos-images/damaged-cardboard-box.html?pg=2'\n",
    "ind = x.find('pg=') + len('pg=')\n",
    "for i in range(1,6): \n",
    "    y = x[:ind] + str(i) + x[(ind+1):]\n",
    "    urls_to_scrape_2.append(y)\n",
    "\n",
    "# shutter stock\n",
    "x = 'https://www.shutterstock.com/search/damaged+cardboard+box?image_type=photo&page=2'\n",
    "ind = x.find('page=') + len('page=')\n",
    "for i in range(1,8): \n",
    "    y = x[:ind] + str(i) + x[(ind+1):]\n",
    "    urls_to_scrape_2.append(y)\n",
    "    \n",
    "print('URLs to scrape for good carton box images:')\n",
    "for url in urls_to_scrape:\n",
    "    print(url)\n",
    "\n",
    "print('\\nURLs to scrape for bad carton box images:')\n",
    "for url in urls_to_scrape_2:\n",
    "    print(url)"
   ]
  },
  {
   "cell_type": "code",
   "execution_count": 33,
   "id": "94915ec6",
   "metadata": {},
   "outputs": [],
   "source": [
    "# webscraping for GOOD images first\n",
    "\n",
    "Images=[] #create empty list to store the good box image source links\n",
    "\n",
    "#compiling and storing the good box images' source links\n",
    "for url in urls_to_scrape:\n",
    "    source = requests.get(url, headers = headers).text\n",
    "    soup = BeautifulSoup(source, 'lxml')\n",
    "    \n",
    "    if 'istock' in url:\n",
    "        img_links=soup.select('img[src^=\"https://media.istockphoto.com/photos\"]')\n",
    "        for i in range(len(img_links)):\n",
    "            Images.append(img_links[i]['src'])\n",
    "    elif 'freepik' in url:\n",
    "        img_links=soup.select('img[data-src^=\"https://img.freepik.com/free-photo\"]')\n",
    "        for i in range(len(img_links)):\n",
    "            Images.append(img_links[i]['data-src'])\n",
    "    elif 'deposit' in url:\n",
    "        img_links=soup.select('img[src^=\"https://st\"]')\n",
    "        for i in range(len(img_links)):\n",
    "            Images.append(img_links[i]['src'])\n",
    "    elif 'shutter' in url:\n",
    "        img_links=soup.select('img[src^=\"https://image.shutterstock.com\"]')\n",
    "        for i in range(len(img_links)):\n",
    "            Images.append(img_links[i]['src'])\n",
    "#print(Images) to check for errors"
   ]
  },
  {
   "cell_type": "code",
   "execution_count": 34,
   "id": "fd16b78b",
   "metadata": {},
   "outputs": [],
   "source": [
    "#download scraped GOOD images to subfolder\n",
    "for j in range(len(Images)):\n",
    "    name=cwd+'\\webscraped_good\\good.'+str(j)+'.jpg'\n",
    "    urllib.request.urlretrieve(Images[j], name)"
   ]
  },
  {
   "cell_type": "code",
   "execution_count": 25,
   "id": "7d7fa4c5",
   "metadata": {},
   "outputs": [],
   "source": [
    "#webscrape for BAD images\n",
    "\n",
    "Images_2=[] #create empty list to store the bad box image source links\n",
    "\n",
    "#compiling and storing the good box images' source links\n",
    "for url in urls_to_scrape_2:\n",
    "    source = requests.get(url, headers = headers).text\n",
    "    soup = BeautifulSoup(source, 'lxml')\n",
    "    \n",
    "    if 'istock' in url:\n",
    "        img_links=soup.select('img[src^=\"https://media.istockphoto.com/photos\"]')\n",
    "        for i in range(len(img_links)):\n",
    "            Images_2.append(img_links[i]['src'])\n",
    "    elif 'dreams' in url:\n",
    "        img_links=soup.select('img[data-src^=\"https://thumbs.dreamstime.com\"]')\n",
    "        for i in range(len(img_links)):\n",
    "            Images_2.append(img_links[i]['data-src'])\n",
    "    elif 'deposit' in url:\n",
    "        img_links=soup.select('img[src^=\"https://st\"]')\n",
    "        for i in range(len(img_links)):\n",
    "            Images_2.append(img_links[i]['src'])\n",
    "    elif 'shutter' in url:\n",
    "        img_links=soup.select('img[src^=\"https://image.shutterstock.com/image-photo\"]')\n",
    "        for i in range(len(img_links)):\n",
    "            Images_2.append(img_links[i]['src'])\n",
    "    #print(img_links)\n",
    "# print(Images_2)"
   ]
  },
  {
   "cell_type": "code",
   "execution_count": 28,
   "id": "9164c2a5",
   "metadata": {},
   "outputs": [],
   "source": [
    "# download scraped BAD images to subfolder\n",
    "for k in range(len(Images_2)):\n",
    "    name=cwd+'\\webscraped_bad\\\\bad.'+str(k)+'.jpg'\n",
    "    urllib.request.urlretrieve(Images_2[k], name)"
   ]
  },
  {
   "cell_type": "markdown",
   "id": "1978bd0e",
   "metadata": {},
   "source": [
    "# EDA"
   ]
  },
  {
   "cell_type": "code",
   "execution_count": 3,
   "id": "81183065",
   "metadata": {},
   "outputs": [
    {
     "name": "stdout",
     "output_type": "stream",
     "text": [
      "['internal_bad', 'internal_good', 'webscraped_bad', 'webscraped_good']\n",
      "[1086, 295, 262, 605]\n"
     ]
    }
   ],
   "source": [
    "# check the distribution of images between internal vs scraped, good vs bad\n",
    "os.chdir('C:\\\\Users\\\\LeeX\\\\Desktop\\\\Proof_Of_Concept\\\\good_bad_carton_images')\n",
    "cwd = os.getcwd()\n",
    "\n",
    "count_list=[]\n",
    "folder_list = os.listdir() # list out subfolders in Proof_Of_Concept\\\\good_bad_carton_images\n",
    "\n",
    "for folder in folder_list: # loop through each folder \n",
    "    os.chdir(folder) # change directory to each subfolder\n",
    "    num_images = len(os.listdir()) # count length of each subfolder, i.e. how many images it contains\n",
    "    count_list.append(num_images)\n",
    "    os.chdir(cwd)\n",
    "\n",
    "os.chdir(cwd) # change back current working directory to cwd\n",
    "\n",
    "print(folder_list)\n",
    "print(count_list)"
   ]
  },
  {
   "cell_type": "code",
   "execution_count": 104,
   "id": "aef0878e",
   "metadata": {},
   "outputs": [
    {
     "data": {
      "image/png": "[encoded data removed]",
      "text/plain": [
       "<Figure size 432x288 with 1 Axes>"
      ]
     },
     "metadata": {
      "needs_background": "light"
     },
     "output_type": "display_data"
    }
   ],
   "source": [
    "# show barplot of distribution of images\n",
    "def show_values(axs, orient=\"v\", space=.01): # function to show data labels in bar plot\n",
    "    def _single(ax):\n",
    "        if orient == \"v\":\n",
    "            for p in ax.patches:\n",
    "                _x = p.get_x() + p.get_width() / 2\n",
    "                _y = p.get_y() + p.get_height() + (p.get_height()*0.01)\n",
    "                value = '{:.1f}'.format(p.get_height())\n",
    "                ax.text(_x, _y, value, ha=\"center\") \n",
    "        elif orient == \"h\":\n",
    "            for p in ax.patches:\n",
    "                _x = p.get_x() + p.get_width() + float(space)\n",
    "                _y = p.get_y() + p.get_height() - (p.get_height()*0.5)\n",
    "                value = '{:.1f}'.format(p.get_width())\n",
    "                ax.text(_x, _y, value, ha=\"left\")\n",
    "\n",
    "    if isinstance(axs, np.ndarray):\n",
    "        for idx, ax in np.ndenumerate(axs):\n",
    "            _single(ax)\n",
    "    else:\n",
    "        _single(axs)\n",
    "        \n",
    "ax = sns.barplot(x=folder_list, y=count_list)\n",
    "show_values(ax)"
   ]
  },
  {
   "cell_type": "code",
   "execution_count": 6,
   "id": "f82ed177",
   "metadata": {},
   "outputs": [
    {
     "data": {
      "image/png": "[encoded data removed]",
      "text/plain": [
       "<Figure size 432x288 with 1 Axes>"
      ]
     },
     "metadata": {
      "needs_background": "light"
     },
     "output_type": "display_data"
    }
   ],
   "source": [
    "# create data\n",
    "x = np.arange(2)\n",
    "internal_y = count_list[:2]\n",
    "scraped_y = count_list[2:4]\n",
    "width = 0.4\n",
    "  \n",
    "# plot grouped bar plot, grouped by class label\n",
    "plt.bar(x-0.2, internal_y, width, color='mediumseagreen')\n",
    "plt.bar(x+0.2, scraped_y, width, color='teal')\n",
    "plt.xticks(x, ['Bad', 'Good'])\n",
    "plt.xlabel(\"Labels\")\n",
    "plt.ylabel(\"Count\")\n",
    "plt.legend([\"Internal\", \"Scraped\"])\n",
    "\n",
    "reorder_count_list=[]\n",
    "for i in range(2):\n",
    "    for j in [internal_y, scraped_y]:\n",
    "        reorder_count_list.append(j[i])\n",
    "for i in range(len(reorder_count_list)):\n",
    "    y = reorder_count_list[i]\n",
    "    x = -.4 + i*.4\n",
    "    if i > 1:\n",
    "        x += .2\n",
    "    plt.text(x, y+10, str(y), color='blue', fontweight='bold')\n",
    "\n",
    "os.chdir('C:\\\\Users\\\\LeeX\\\\Desktop\\\\Proof_Of_Concept')\n",
    "plt.savefig('class_barplot.png')\n",
    "plt.show()"
   ]
  },
  {
   "cell_type": "markdown",
   "id": "65379779",
   "metadata": {},
   "source": [
    "From the barplots above, it is evident that there is class imbalance, as the split between good and bad is : __xx/xx__. We will balance out the classes using SMOTE subsequently after we clean the data."
   ]
  },
  {
   "cell_type": "code",
   "execution_count": null,
   "id": "a13837bb",
   "metadata": {},
   "outputs": [],
   "source": []
  }
 ],
 "metadata": {
  "kernelspec": {
   "display_name": "Python 3",
   "language": "python",
   "name": "python3"
  },
  "language_info": {
   "codemirror_mode": {
    "name": "ipython",
    "version": 3
   },
   "file_extension": ".py",
   "mimetype": "text/x-python",
   "name": "python",
   "nbconvert_exporter": "python",
   "pygments_lexer": "ipython3",
   "version": "3.8.8"
  }
 },
 "nbformat": 4,
 "nbformat_minor": 5
}
