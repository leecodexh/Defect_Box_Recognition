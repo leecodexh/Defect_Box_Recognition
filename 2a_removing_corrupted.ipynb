{
 "cells": [
  {
   "cell_type": "code",
   "execution_count": 6,
   "id": "cd54eb0b",
   "metadata": {},
   "outputs": [],
   "source": [
    "# removing corrupted images referenced from: # credit: https://www.codegrepper.com/code-examples/python/python+check+if+image+is+corrupted\n",
    "# importing libaries for removing corrupted images\n",
    "from os import listdir\n",
    "from PIL import Image\n",
    "import os\n",
    "\n",
    "os.chdir('C:\\\\Users\\\\LeeX\\\\Desktop\\\\Proof_Of_Concept\\\\good_bad_carton_images')\n",
    "cwd = os.getcwd()\n",
    "corrupt_list=[] #empty list to store filenames of corrupted images\n",
    "\n",
    "for folder in ['webscraped_good','webscraped_bad']: #loop through both folders to identify corrupted files\n",
    "    for filename in listdir(folder):\n",
    "        try:\n",
    "            img = Image.open(cwd+'\\\\'+folder+'\\\\'+filename) # open the image file\n",
    "            img.verify() # verify that it is, in fact an image\n",
    "        except (IOError, SyntaxError) as e:\n",
    "            corrupt_list.append(filename)\n",
    "            print('Corrupted file:', filename) # print out the names of corrupt files"
   ]
  },
  {
   "cell_type": "code",
   "execution_count": null,
   "id": "19ab58e7",
   "metadata": {},
   "outputs": [],
   "source": [
    "# deleting corrupted images\n",
    "for corrupt_file in corrupt_list:\n",
    "    if corrupt_file.startswith('good'):\n",
    "        os.remove(cwd+'\\\\webscraped_good\\\\'+corrupt_file)\n",
    "    elif corrupt_file.startswith('bad'):\n",
    "        os.remove(cwd+'\\\\webscraped_bad\\\\'+corrupt_file)"
   ]
  }
 ],
 "metadata": {
  "kernelspec": {
   "display_name": "Python 3",
   "language": "python",
   "name": "python3"
  },
  "language_info": {
   "codemirror_mode": {
    "name": "ipython",
    "version": 3
   },
   "file_extension": ".py",
   "mimetype": "text/x-python",
   "name": "python",
   "nbconvert_exporter": "python",
   "pygments_lexer": "ipython3",
   "version": "3.8.8"
  }
 },
 "nbformat": 4,
 "nbformat_minor": 5
}
